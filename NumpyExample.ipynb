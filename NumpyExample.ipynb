{
 "cells": [
  {
   "cell_type": "code",
   "execution_count": 1,
   "id": "be2a96d1-ac61-40bb-976b-b67f7cb13ef7",
   "metadata": {},
   "outputs": [],
   "source": [
    "import numpy as np"
   ]
  },
  {
   "cell_type": "code",
   "execution_count": 10,
   "id": "e9a98a9a-b5ad-412a-8022-a01b0d8408ee",
   "metadata": {},
   "outputs": [],
   "source": [
    "arr = np.array([[-1, 2, 0, 4,3],\n",
    "                [4, -0.5, 6, 0,2],\n",
    "                [2.6, 0, 7, 8,0],\n",
    "                [3, -7, 4, 2.0,1]])"
   ]
  },
  {
   "cell_type": "code",
   "execution_count": 11,
   "id": "b09a6cb5-16ee-4f2d-933f-0fdc90ad6b7f",
   "metadata": {},
   "outputs": [
    {
     "name": "stdout",
     "output_type": "stream",
     "text": [
      "[[-1.   2.   0.   4.   3. ]\n",
      " [ 4.  -0.5  6.   0.   2. ]\n",
      " [ 2.6  0.   7.   8.   0. ]\n",
      " [ 3.  -7.   4.   2.   1. ]]\n"
     ]
    }
   ],
   "source": [
    "print(arr)"
   ]
  },
  {
   "cell_type": "code",
   "execution_count": 27,
   "id": "05d251e0-f049-4ec0-ac8f-a9a4f8b4b8e3",
   "metadata": {},
   "outputs": [],
   "source": [
    "slice = arr[2:4,::3]"
   ]
  },
  {
   "cell_type": "code",
   "execution_count": 28,
   "id": "8f652123-9ef9-4364-876a-21993195ceb0",
   "metadata": {},
   "outputs": [
    {
     "name": "stdout",
     "output_type": "stream",
     "text": [
      "[[2.6 8. ]\n",
      " [3.  2. ]]\n"
     ]
    }
   ],
   "source": [
    "print(slice)"
   ]
  },
  {
   "cell_type": "code",
   "execution_count": 30,
   "id": "a8012400-a1ae-4322-a562-c09d86c1e336",
   "metadata": {},
   "outputs": [],
   "source": [
    "a = np.array([[1,2],\n",
    "             [3,4]])\n",
    "b = np.array([[4, 3],\n",
    "              [2, 1]])"
   ]
  },
  {
   "cell_type": "code",
   "execution_count": 31,
   "id": "81c3b9dc-ab90-40ae-9e11-589f8a17442d",
   "metadata": {},
   "outputs": [
    {
     "data": {
      "text/plain": [
       "array([[2, 3],\n",
       "       [4, 5]])"
      ]
     },
     "execution_count": 31,
     "metadata": {},
     "output_type": "execute_result"
    }
   ],
   "source": [
    "a + 1"
   ]
  },
  {
   "cell_type": "code",
   "execution_count": 32,
   "id": "c3a76ea5-f5de-4a9c-a598-bd208bee2a27",
   "metadata": {},
   "outputs": [
    {
     "data": {
      "text/plain": [
       "array([[ 2,  1],\n",
       "       [ 0, -1]])"
      ]
     },
     "execution_count": 32,
     "metadata": {},
     "output_type": "execute_result"
    }
   ],
   "source": [
    "b - 2"
   ]
  },
  {
   "cell_type": "code",
   "execution_count": 33,
   "id": "549b4f0a-62ac-41ee-afad-5aef15511421",
   "metadata": {},
   "outputs": [
    {
     "data": {
      "text/plain": [
       "array([[5, 5],\n",
       "       [5, 5]])"
      ]
     },
     "execution_count": 33,
     "metadata": {},
     "output_type": "execute_result"
    }
   ],
   "source": [
    "a + b"
   ]
  },
  {
   "cell_type": "code",
   "execution_count": 34,
   "id": "fd707316-b3c5-4a67-a957-8215c60a0abf",
   "metadata": {},
   "outputs": [],
   "source": [
    "a = a + 1"
   ]
  },
  {
   "cell_type": "code",
   "execution_count": 35,
   "id": "5a61a17d-0757-4cb2-8142-da9e28727e20",
   "metadata": {},
   "outputs": [],
   "source": [
    "b = b - 2"
   ]
  },
  {
   "cell_type": "code",
   "execution_count": 36,
   "id": "8a11203a-49eb-460d-b523-f4fb307d2efb",
   "metadata": {},
   "outputs": [
    {
     "data": {
      "text/plain": [
       "array([[4, 4],\n",
       "       [4, 4]])"
      ]
     },
     "execution_count": 36,
     "metadata": {},
     "output_type": "execute_result"
    }
   ],
   "source": [
    "a + b\n"
   ]
  },
  {
   "cell_type": "code",
   "execution_count": 37,
   "id": "2ea4ad82-e79b-4902-b380-e920334a6f29",
   "metadata": {},
   "outputs": [
    {
     "data": {
      "text/plain": [
       "np.int64(14)"
      ]
     },
     "execution_count": 37,
     "metadata": {},
     "output_type": "execute_result"
    }
   ],
   "source": [
    "a.sum()"
   ]
  },
  {
   "cell_type": "code",
   "execution_count": 38,
   "id": "1bf26347-6f6e-41f9-970a-453dd2622e2b",
   "metadata": {},
   "outputs": [],
   "source": [
    "a  = a + b"
   ]
  },
  {
   "cell_type": "code",
   "execution_count": 39,
   "id": "8d908f05-99ad-48e8-a9e8-361fded31dc4",
   "metadata": {},
   "outputs": [
    {
     "data": {
      "text/plain": [
       "np.int64(16)"
      ]
     },
     "execution_count": 39,
     "metadata": {},
     "output_type": "execute_result"
    }
   ],
   "source": [
    "a.sum()"
   ]
  },
  {
   "cell_type": "code",
   "execution_count": 40,
   "id": "e4b2c40f-1c6c-4304-a767-ece6bbe595f6",
   "metadata": {},
   "outputs": [
    {
     "name": "stdout",
     "output_type": "stream",
     "text": [
      "\n",
      "Forcing a Datatype: \n",
      "int64\n"
     ]
    }
   ],
   "source": [
    "x = np.array([1, 2], dtype = np.int64)   \n",
    "print(\"\\nForcing a Datatype: \")\n",
    "print(x.dtype)"
   ]
  },
  {
   "cell_type": "code",
   "execution_count": 41,
   "id": "24a4342f-44c4-4dda-a9cc-3a2cc3437418",
   "metadata": {},
   "outputs": [],
   "source": [
    "x = np.array([1, 2])"
   ]
  },
  {
   "cell_type": "code",
   "execution_count": 42,
   "id": "b96f0481-a634-4aea-9c80-09553fd5c093",
   "metadata": {},
   "outputs": [
    {
     "name": "stdout",
     "output_type": "stream",
     "text": [
      "int64\n"
     ]
    }
   ],
   "source": [
    "print(x.dtype)"
   ]
  },
  {
   "cell_type": "code",
   "execution_count": 43,
   "id": "28b9fcc1-501b-41a2-af31-208b80d5b00c",
   "metadata": {},
   "outputs": [
    {
     "name": "stdout",
     "output_type": "stream",
     "text": [
      "int64\n"
     ]
    }
   ],
   "source": [
    "p = np.array([1, 2])\n",
    "print(p.dtype)"
   ]
  },
  {
   "cell_type": "code",
   "execution_count": 44,
   "id": "9e647bce-a602-4553-8c5d-0e6069d1af51",
   "metadata": {},
   "outputs": [
    {
     "name": "stdout",
     "output_type": "stream",
     "text": [
      "\n",
      "Forcing a Datatype: \n",
      "float64\n"
     ]
    }
   ],
   "source": [
    "x = np.array([1, 2], dtype = np.float64)   \n",
    "print(\"\\nForcing a Datatype: \")\n",
    "print(x.dtype)"
   ]
  },
  {
   "cell_type": "code",
   "execution_count": null,
   "id": "c014d3b6-0146-4dd2-9c1d-0644f717066a",
   "metadata": {},
   "outputs": [],
   "source": []
  }
 ],
 "metadata": {
  "kernelspec": {
   "display_name": "Python 3 (ipykernel)",
   "language": "python",
   "name": "python3"
  },
  "language_info": {
   "codemirror_mode": {
    "name": "ipython",
    "version": 3
   },
   "file_extension": ".py",
   "mimetype": "text/x-python",
   "name": "python",
   "nbconvert_exporter": "python",
   "pygments_lexer": "ipython3",
   "version": "3.12.4"
  }
 },
 "nbformat": 4,
 "nbformat_minor": 5
}
